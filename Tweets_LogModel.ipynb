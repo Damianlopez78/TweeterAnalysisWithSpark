{
 "cells": [
  {
   "cell_type": "code",
   "execution_count": 18,
   "metadata": {},
   "outputs": [],
   "source": [
    "import pandas as pd \n",
    "from pandas import DataFrame\n",
    "from tweepy.streaming import StreamListener\n",
    "import numpy as np  \n",
    "import matplotlib.pyplot as plt  \n",
    "import seaborn as sns\n",
    "import os\n",
    "import csv\n",
    "import numpy as np \n",
    "import pandas as pd \n",
    "import re\n",
    "import nltk \n",
    "import matplotlib.pyplot as plt\n",
    "%matplotlib inline"
   ]
  },
  {
   "cell_type": "code",
   "execution_count": 19,
   "metadata": {},
   "outputs": [
    {
     "data": {
      "text/plain": [
       "'/Volumes/Damian/NJIT_Clases/CS644_Big_Data/Final_Project'"
      ]
     },
     "execution_count": 19,
     "metadata": {},
     "output_type": "execute_result"
    }
   ],
   "source": [
    "os.getcwd()"
   ]
  },
  {
   "cell_type": "code",
   "execution_count": 20,
   "metadata": {},
   "outputs": [
    {
     "data": {
      "text/html": [
       "<div>\n",
       "<style scoped>\n",
       "    .dataframe tbody tr th:only-of-type {\n",
       "        vertical-align: middle;\n",
       "    }\n",
       "\n",
       "    .dataframe tbody tr th {\n",
       "        vertical-align: top;\n",
       "    }\n",
       "\n",
       "    .dataframe thead th {\n",
       "        text-align: right;\n",
       "    }\n",
       "</style>\n",
       "<table border=\"1\" class=\"dataframe\">\n",
       "  <thead>\n",
       "    <tr style=\"text-align: right;\">\n",
       "      <th></th>\n",
       "      <th>Polarity</th>\n",
       "      <th>ID</th>\n",
       "      <th>Date</th>\n",
       "      <th>User</th>\n",
       "      <th>Tweet</th>\n",
       "    </tr>\n",
       "  </thead>\n",
       "  <tbody>\n",
       "    <tr>\n",
       "      <th>0</th>\n",
       "      <td>0</td>\n",
       "      <td>1467810369</td>\n",
       "      <td>Mon Apr 06 22:19:45 PDT 2009</td>\n",
       "      <td>_TheSpecialOne_</td>\n",
       "      <td>@switchfoot http://twitpic.com/2y1zl - Awww, t...</td>\n",
       "    </tr>\n",
       "    <tr>\n",
       "      <th>1</th>\n",
       "      <td>0</td>\n",
       "      <td>1467810672</td>\n",
       "      <td>Mon Apr 06 22:19:49 PDT 2009</td>\n",
       "      <td>scotthamilton</td>\n",
       "      <td>is upset that he can't update his Facebook by ...</td>\n",
       "    </tr>\n",
       "    <tr>\n",
       "      <th>2</th>\n",
       "      <td>0</td>\n",
       "      <td>1467810917</td>\n",
       "      <td>Mon Apr 06 22:19:53 PDT 2009</td>\n",
       "      <td>mattycus</td>\n",
       "      <td>@Kenichan I dived many times for the ball. Man...</td>\n",
       "    </tr>\n",
       "    <tr>\n",
       "      <th>3</th>\n",
       "      <td>0</td>\n",
       "      <td>1467811184</td>\n",
       "      <td>Mon Apr 06 22:19:57 PDT 2009</td>\n",
       "      <td>ElleCTF</td>\n",
       "      <td>my whole body feels itchy and like its on fire</td>\n",
       "    </tr>\n",
       "    <tr>\n",
       "      <th>4</th>\n",
       "      <td>0</td>\n",
       "      <td>1467811193</td>\n",
       "      <td>Mon Apr 06 22:19:57 PDT 2009</td>\n",
       "      <td>Karoli</td>\n",
       "      <td>@nationwideclass no, it's not behaving at all....</td>\n",
       "    </tr>\n",
       "    <tr>\n",
       "      <th>...</th>\n",
       "      <td>...</td>\n",
       "      <td>...</td>\n",
       "      <td>...</td>\n",
       "      <td>...</td>\n",
       "      <td>...</td>\n",
       "    </tr>\n",
       "    <tr>\n",
       "      <th>1599995</th>\n",
       "      <td>4</td>\n",
       "      <td>2193601966</td>\n",
       "      <td>Tue Jun 16 08:40:49 PDT 2009</td>\n",
       "      <td>AmandaMarie1028</td>\n",
       "      <td>Just woke up. Having no school is the best fee...</td>\n",
       "    </tr>\n",
       "    <tr>\n",
       "      <th>1599996</th>\n",
       "      <td>4</td>\n",
       "      <td>2193601969</td>\n",
       "      <td>Tue Jun 16 08:40:49 PDT 2009</td>\n",
       "      <td>TheWDBoards</td>\n",
       "      <td>TheWDB.com - Very cool to hear old Walt interv...</td>\n",
       "    </tr>\n",
       "    <tr>\n",
       "      <th>1599997</th>\n",
       "      <td>4</td>\n",
       "      <td>2193601991</td>\n",
       "      <td>Tue Jun 16 08:40:49 PDT 2009</td>\n",
       "      <td>bpbabe</td>\n",
       "      <td>Are you ready for your MoJo Makeover? Ask me f...</td>\n",
       "    </tr>\n",
       "    <tr>\n",
       "      <th>1599998</th>\n",
       "      <td>4</td>\n",
       "      <td>2193602064</td>\n",
       "      <td>Tue Jun 16 08:40:49 PDT 2009</td>\n",
       "      <td>tinydiamondz</td>\n",
       "      <td>Happy 38th Birthday to my boo of alll time!!! ...</td>\n",
       "    </tr>\n",
       "    <tr>\n",
       "      <th>1599999</th>\n",
       "      <td>4</td>\n",
       "      <td>2193602129</td>\n",
       "      <td>Tue Jun 16 08:40:50 PDT 2009</td>\n",
       "      <td>RyanTrevMorris</td>\n",
       "      <td>happy #charitytuesday @theNSPCC @SparksCharity...</td>\n",
       "    </tr>\n",
       "  </tbody>\n",
       "</table>\n",
       "<p>400000 rows × 5 columns</p>\n",
       "</div>"
      ],
      "text/plain": [
       "         Polarity          ID                          Date             User  \\\n",
       "0               0  1467810369  Mon Apr 06 22:19:45 PDT 2009  _TheSpecialOne_   \n",
       "1               0  1467810672  Mon Apr 06 22:19:49 PDT 2009    scotthamilton   \n",
       "2               0  1467810917  Mon Apr 06 22:19:53 PDT 2009         mattycus   \n",
       "3               0  1467811184  Mon Apr 06 22:19:57 PDT 2009          ElleCTF   \n",
       "4               0  1467811193  Mon Apr 06 22:19:57 PDT 2009           Karoli   \n",
       "...           ...         ...                           ...              ...   \n",
       "1599995         4  2193601966  Tue Jun 16 08:40:49 PDT 2009  AmandaMarie1028   \n",
       "1599996         4  2193601969  Tue Jun 16 08:40:49 PDT 2009      TheWDBoards   \n",
       "1599997         4  2193601991  Tue Jun 16 08:40:49 PDT 2009           bpbabe   \n",
       "1599998         4  2193602064  Tue Jun 16 08:40:49 PDT 2009     tinydiamondz   \n",
       "1599999         4  2193602129  Tue Jun 16 08:40:50 PDT 2009   RyanTrevMorris   \n",
       "\n",
       "                                                     Tweet  \n",
       "0        @switchfoot http://twitpic.com/2y1zl - Awww, t...  \n",
       "1        is upset that he can't update his Facebook by ...  \n",
       "2        @Kenichan I dived many times for the ball. Man...  \n",
       "3          my whole body feels itchy and like its on fire   \n",
       "4        @nationwideclass no, it's not behaving at all....  \n",
       "...                                                    ...  \n",
       "1599995  Just woke up. Having no school is the best fee...  \n",
       "1599996  TheWDB.com - Very cool to hear old Walt interv...  \n",
       "1599997  Are you ready for your MoJo Makeover? Ask me f...  \n",
       "1599998  Happy 38th Birthday to my boo of alll time!!! ...  \n",
       "1599999  happy #charitytuesday @theNSPCC @SparksCharity...  \n",
       "\n",
       "[400000 rows x 5 columns]"
      ]
     },
     "execution_count": 20,
     "metadata": {},
     "output_type": "execute_result"
    }
   ],
   "source": [
    "train = pd.read_csv('tweeter_train.csv' ,header=None)\n",
    "train.rename(columns={0: 'Polarity', 1: 'ID', 2: 'Date',3: 'Query',4: 'User',5: 'Tweet'}, inplace=True)\n",
    "del train[\"Query\"]\n",
    "\n",
    "train.drop(train.index[200000:1400000], inplace = True)\n",
    "\n",
    "#train.drop(train.tail(700000).index, inplace = True)\n",
    "train"
   ]
  },
  {
   "cell_type": "code",
   "execution_count": 21,
   "metadata": {},
   "outputs": [
    {
     "data": {
      "text/plain": [
       "Polarity     int64\n",
       "ID           int64\n",
       "Date        object\n",
       "User        object\n",
       "Tweet       object\n",
       "dtype: object"
      ]
     },
     "execution_count": 21,
     "metadata": {},
     "output_type": "execute_result"
    }
   ],
   "source": [
    "train.dtypes"
   ]
  },
  {
   "cell_type": "code",
   "execution_count": 22,
   "metadata": {},
   "outputs": [
    {
     "data": {
      "text/html": [
       "<div>\n",
       "<style scoped>\n",
       "    .dataframe tbody tr th:only-of-type {\n",
       "        vertical-align: middle;\n",
       "    }\n",
       "\n",
       "    .dataframe tbody tr th {\n",
       "        vertical-align: top;\n",
       "    }\n",
       "\n",
       "    .dataframe thead th {\n",
       "        text-align: right;\n",
       "    }\n",
       "</style>\n",
       "<table border=\"1\" class=\"dataframe\">\n",
       "  <thead>\n",
       "    <tr style=\"text-align: right;\">\n",
       "      <th></th>\n",
       "      <th>Polarity</th>\n",
       "      <th>ID</th>\n",
       "      <th>Date</th>\n",
       "      <th>User</th>\n",
       "      <th>Tweet</th>\n",
       "    </tr>\n",
       "  </thead>\n",
       "  <tbody>\n",
       "    <tr>\n",
       "      <th>0</th>\n",
       "      <td>NaN</td>\n",
       "      <td>1389366309486567429</td>\n",
       "      <td>2021-05-03 23:48:36</td>\n",
       "      <td>flufferbot01</td>\n",
       "      <td>@RichardKeppler1 @PlugInFUD Covid canât stop...</td>\n",
       "    </tr>\n",
       "    <tr>\n",
       "      <th>1</th>\n",
       "      <td>NaN</td>\n",
       "      <td>1389366309306212369</td>\n",
       "      <td>2021-05-03 23:48:35</td>\n",
       "      <td>interzone03</td>\n",
       "      <td>@IrishNorsewoman @MollyJongFast Your 6 year ol...</td>\n",
       "    </tr>\n",
       "    <tr>\n",
       "      <th>2</th>\n",
       "      <td>NaN</td>\n",
       "      <td>1389366308404404224</td>\n",
       "      <td>2021-05-03 23:48:35</td>\n",
       "      <td>SecretNews</td>\n",
       "      <td>Rabbi disavowed by Chabad after posting âope...</td>\n",
       "    </tr>\n",
       "    <tr>\n",
       "      <th>3</th>\n",
       "      <td>NaN</td>\n",
       "      <td>1389366302746333184</td>\n",
       "      <td>2021-05-03 23:48:34</td>\n",
       "      <td>kenshixhimura</td>\n",
       "      <td>@elrosa_ Maaaan fuck covid</td>\n",
       "    </tr>\n",
       "    <tr>\n",
       "      <th>4</th>\n",
       "      <td>NaN</td>\n",
       "      <td>1389366302326861826</td>\n",
       "      <td>2021-05-03 23:48:34</td>\n",
       "      <td>connecticutvax</td>\n",
       "      <td>As of 05/03 19:48: New appointment(s) availabl...</td>\n",
       "    </tr>\n",
       "  </tbody>\n",
       "</table>\n",
       "</div>"
      ],
      "text/plain": [
       "   Polarity                   ID                 Date            User  \\\n",
       "0       NaN  1389366309486567429  2021-05-03 23:48:36    flufferbot01   \n",
       "1       NaN  1389366309306212369  2021-05-03 23:48:35     interzone03   \n",
       "2       NaN  1389366308404404224  2021-05-03 23:48:35      SecretNews   \n",
       "3       NaN  1389366302746333184  2021-05-03 23:48:34   kenshixhimura   \n",
       "4       NaN  1389366302326861826  2021-05-03 23:48:34  connecticutvax   \n",
       "\n",
       "                                               Tweet  \n",
       "0  @RichardKeppler1 @PlugInFUD Covid canât stop...  \n",
       "1  @IrishNorsewoman @MollyJongFast Your 6 year ol...  \n",
       "2  Rabbi disavowed by Chabad after posting âope...  \n",
       "3                         @elrosa_ Maaaan fuck covid  \n",
       "4  As of 05/03 19:48: New appointment(s) availabl...  "
      ]
     },
     "execution_count": 22,
     "metadata": {},
     "output_type": "execute_result"
    }
   ],
   "source": [
    "test = pd.read_csv('tweeter_test.csv' ,encoding='latin-1',header=None)\n",
    "test.rename(columns={0: 'ID', 1: 'Date', 2: 'Tweet',3: 'User',4: 'Location'}, inplace=True)\n",
    "test.head()\n",
    "test.insert(len(test.columns), 'Polarity',np.nan)\n",
    "del test[\"Location\"]\n",
    "test = test[['Polarity', 'ID', 'Date', 'User', 'Tweet']]\n",
    "\n",
    "test.head()"
   ]
  },
  {
   "cell_type": "code",
   "execution_count": 23,
   "metadata": {},
   "outputs": [],
   "source": [
    "features1 = test.iloc[:, 4].values\n",
    "labels1 = test.iloc[:, 0].values\n",
    "processed_features1 = []\n",
    "\n",
    "for sentence in range(0, len(features1)):\n",
    "    # Remove all the special characters\n",
    "    processed_feature1 = re.sub(r'\\W', ' ', str(features1[sentence]))\n",
    "\n",
    "    # remove all single characters\n",
    "    processed_feature1= re.sub(r'\\s+[a-zA-Z]\\s+', ' ', processed_feature1)\n",
    "\n",
    "    # Remove single characters from the start\n",
    "    processed_feature1 = re.sub(r'\\^[a-zA-Z]\\s+', ' ', processed_feature1) \n",
    "\n",
    "    # Substituting multiple spaces with single space\n",
    "    processed_feature1 = re.sub(r'\\s+', ' ', processed_feature1, flags=re.I)\n",
    "\n",
    "    # Removing prefixed 'b'\n",
    "    processed_feature1 = re.sub(r'^b\\s+', '', processed_feature1)\n",
    "\n",
    "    # Converting to Lowercase\n",
    "    processed_feature1 = processed_feature1.lower()\n",
    "\n",
    "    processed_features1.append(processed_feature1)"
   ]
  },
  {
   "cell_type": "code",
   "execution_count": 24,
   "metadata": {},
   "outputs": [
    {
     "name": "stdout",
     "output_type": "stream",
     "text": [
      "6.0\n",
      "4.0\n"
     ]
    },
    {
     "data": {
      "text/plain": [
       "<AxesSubplot:ylabel='Polarity'>"
      ]
     },
     "execution_count": 24,
     "metadata": {},
     "output_type": "execute_result"
    },
    {
     "data": {
      "image/png": "[encoded data removed]",
      "text/plain": [
       "<Figure size 576x432 with 1 Axes>"
      ]
     },
     "metadata": {},
     "output_type": "display_data"
    }
   ],
   "source": [
    "plot_size = plt.rcParams[\"figure.figsize\"] \n",
    "print(plot_size[0]) \n",
    "print(plot_size[1])\n",
    "\n",
    "plot_size[0] = 8\n",
    "plot_size[1] = 6\n",
    "plt.rcParams[\"figure.figsize\"] = plot_size \n",
    "train.Polarity.value_counts().plot(kind='pie', autopct='%1.0f%%')\n"
   ]
  },
  {
   "cell_type": "code",
   "execution_count": 25,
   "metadata": {},
   "outputs": [
    {
     "data": {
      "text/plain": [
       "array([0, 0, 0, ..., 4, 4, 4])"
      ]
     },
     "execution_count": 25,
     "metadata": {},
     "output_type": "execute_result"
    }
   ],
   "source": [
    "features = train.iloc[:, 4].values\n",
    "labels = train.iloc[:, 0].values\n",
    "labels"
   ]
  },
  {
   "cell_type": "code",
   "execution_count": 26,
   "metadata": {},
   "outputs": [],
   "source": [
    "processed_features = []\n",
    "\n",
    "for sentence in range(0, len(features)):\n",
    "    # Remove all the special characters\n",
    "    processed_feature = re.sub(r'\\W', ' ', str(features[sentence]))\n",
    "\n",
    "    # remove all single characters\n",
    "    processed_feature= re.sub(r'\\s+[a-zA-Z]\\s+', ' ', processed_feature)\n",
    "\n",
    "    # Remove single characters from the start\n",
    "    processed_feature = re.sub(r'\\^[a-zA-Z]\\s+', ' ', processed_feature) \n",
    "\n",
    "    # Substituting multiple spaces with single space\n",
    "    processed_feature = re.sub(r'\\s+', ' ', processed_feature, flags=re.I)\n",
    "\n",
    "    # Removing prefixed 'b'\n",
    "    processed_feature = re.sub(r'^b\\s+', '', processed_feature)\n",
    "\n",
    "    # Converting to Lowercase\n",
    "    processed_feature = processed_feature.lower()\n",
    "\n",
    "    processed_features.append(processed_feature)"
   ]
  },
  {
   "cell_type": "code",
   "execution_count": null,
   "metadata": {},
   "outputs": [],
   "source": [
    "#pip install sklearn"
   ]
  },
  {
   "cell_type": "code",
   "execution_count": 27,
   "metadata": {},
   "outputs": [],
   "source": [
    "from nltk.corpus import stopwords\n",
    "from sklearn.feature_extraction.text import TfidfVectorizer\n",
    "\n",
    "vectorizer = TfidfVectorizer (max_features=2500, min_df=7, max_df=0.8, stop_words=stopwords.words('english'))\n",
    "processed_features = vectorizer.fit_transform(processed_features).toarray()"
   ]
  },
  {
   "cell_type": "code",
   "execution_count": 28,
   "metadata": {},
   "outputs": [],
   "source": [
    "from sklearn.model_selection import train_test_split\n",
    "\n",
    "X_train, X_test, y_train, y_test = train_test_split(processed_features, labels, test_size=0.3, random_state=0)\n"
   ]
  },
  {
   "cell_type": "code",
   "execution_count": 13,
   "metadata": {},
   "outputs": [],
   "source": [
    "from sklearn.ensemble import RandomForestClassifier\n",
    "\n",
    "#text_classifier = RandomForestClassifier(n_estimators=100, random_state=0)\n",
    "#text_classifier.fit(X_train, y_train)\n",
    "#predictions = text_classifier.predict(X_test)\n"
   ]
  },
  {
   "cell_type": "code",
   "execution_count": 29,
   "metadata": {},
   "outputs": [
    {
     "name": "stderr",
     "output_type": "stream",
     "text": [
      "/usr/local/lib/python3.9/site-packages/sklearn/linear_model/_logistic.py:763: ConvergenceWarning: lbfgs failed to converge (status=1):\n",
      "STOP: TOTAL NO. of ITERATIONS REACHED LIMIT.\n",
      "\n",
      "Increase the number of iterations (max_iter) or scale the data as shown in:\n",
      "    https://scikit-learn.org/stable/modules/preprocessing.html\n",
      "Please also refer to the documentation for alternative solver options:\n",
      "    https://scikit-learn.org/stable/modules/linear_model.html#logistic-regression\n",
      "  n_iter_i = _check_optimize_result(\n"
     ]
    }
   ],
   "source": [
    "from sklearn.linear_model import LogisticRegression\n",
    "from sklearn import preprocessing\n",
    "\n",
    "logmodel = LogisticRegression()\n",
    "logmodel.fit(X_train, y_train)\n",
    "predictions = logmodel.predict(X_test)"
   ]
  },
  {
   "cell_type": "code",
   "execution_count": 30,
   "metadata": {},
   "outputs": [
    {
     "name": "stdout",
     "output_type": "stream",
     "text": [
      "[[44658 15640]\n",
      " [12685 47017]]\n",
      "              precision    recall  f1-score   support\n",
      "\n",
      "           0       0.78      0.74      0.76     60298\n",
      "           4       0.75      0.79      0.77     59702\n",
      "\n",
      "    accuracy                           0.76    120000\n",
      "   macro avg       0.76      0.76      0.76    120000\n",
      "weighted avg       0.76      0.76      0.76    120000\n",
      "\n",
      "0.7639583333333333\n"
     ]
    }
   ],
   "source": [
    "from sklearn.metrics import classification_report, confusion_matrix, accuracy_score\n",
    "\n",
    "print(confusion_matrix(y_test,predictions))\n",
    "print(classification_report(y_test,predictions))\n",
    "print(accuracy_score(y_test, predictions))"
   ]
  },
  {
   "cell_type": "code",
   "execution_count": 31,
   "metadata": {},
   "outputs": [],
   "source": [
    "vectorizer1 = TfidfVectorizer (max_features=2500, min_df=7, max_df=0.8, stop_words=stopwords.words('english'))\n",
    "processed_features1 = vectorizer.fit_transform(processed_features1).toarray()"
   ]
  },
  {
   "cell_type": "code",
   "execution_count": 32,
   "metadata": {},
   "outputs": [
    {
     "data": {
      "text/html": [
       "<div>\n",
       "<style scoped>\n",
       "    .dataframe tbody tr th:only-of-type {\n",
       "        vertical-align: middle;\n",
       "    }\n",
       "\n",
       "    .dataframe tbody tr th {\n",
       "        vertical-align: top;\n",
       "    }\n",
       "\n",
       "    .dataframe thead th {\n",
       "        text-align: right;\n",
       "    }\n",
       "</style>\n",
       "<table border=\"1\" class=\"dataframe\">\n",
       "  <thead>\n",
       "    <tr style=\"text-align: right;\">\n",
       "      <th></th>\n",
       "      <th>Polarity</th>\n",
       "      <th>ID</th>\n",
       "      <th>Date</th>\n",
       "      <th>User</th>\n",
       "      <th>Tweet</th>\n",
       "    </tr>\n",
       "  </thead>\n",
       "  <tbody>\n",
       "    <tr>\n",
       "      <th>0</th>\n",
       "      <td>4</td>\n",
       "      <td>1389366309486567429</td>\n",
       "      <td>2021-05-03 23:48:36</td>\n",
       "      <td>flufferbot01</td>\n",
       "      <td>@RichardKeppler1 @PlugInFUD Covid canât stop...</td>\n",
       "    </tr>\n",
       "    <tr>\n",
       "      <th>1</th>\n",
       "      <td>0</td>\n",
       "      <td>1389366309306212369</td>\n",
       "      <td>2021-05-03 23:48:35</td>\n",
       "      <td>interzone03</td>\n",
       "      <td>@IrishNorsewoman @MollyJongFast Your 6 year ol...</td>\n",
       "    </tr>\n",
       "    <tr>\n",
       "      <th>2</th>\n",
       "      <td>0</td>\n",
       "      <td>1389366308404404224</td>\n",
       "      <td>2021-05-03 23:48:35</td>\n",
       "      <td>SecretNews</td>\n",
       "      <td>Rabbi disavowed by Chabad after posting âope...</td>\n",
       "    </tr>\n",
       "    <tr>\n",
       "      <th>3</th>\n",
       "      <td>0</td>\n",
       "      <td>1389366302746333184</td>\n",
       "      <td>2021-05-03 23:48:34</td>\n",
       "      <td>kenshixhimura</td>\n",
       "      <td>@elrosa_ Maaaan fuck covid</td>\n",
       "    </tr>\n",
       "    <tr>\n",
       "      <th>4</th>\n",
       "      <td>0</td>\n",
       "      <td>1389366302326861826</td>\n",
       "      <td>2021-05-03 23:48:34</td>\n",
       "      <td>connecticutvax</td>\n",
       "      <td>As of 05/03 19:48: New appointment(s) availabl...</td>\n",
       "    </tr>\n",
       "    <tr>\n",
       "      <th>...</th>\n",
       "      <td>...</td>\n",
       "      <td>...</td>\n",
       "      <td>...</td>\n",
       "      <td>...</td>\n",
       "      <td>...</td>\n",
       "    </tr>\n",
       "    <tr>\n",
       "      <th>18841</th>\n",
       "      <td>4</td>\n",
       "      <td>1389339895349477376</td>\n",
       "      <td>2021-05-03 22:03:38</td>\n",
       "      <td>KevinSMcArthur</td>\n",
       "      <td>15 more deaths from Covid-19 (3 periods)... ugh.</td>\n",
       "    </tr>\n",
       "    <tr>\n",
       "      <th>18842</th>\n",
       "      <td>4</td>\n",
       "      <td>1389339895194431492</td>\n",
       "      <td>2021-05-03 22:03:38</td>\n",
       "      <td>rubydeuxdetroit</td>\n",
       "      <td>@jenmonkey1 @jameshamblin @gtconway3dg You thi...</td>\n",
       "    </tr>\n",
       "    <tr>\n",
       "      <th>18843</th>\n",
       "      <td>0</td>\n",
       "      <td>1389339894615531526</td>\n",
       "      <td>2021-05-03 22:03:38</td>\n",
       "      <td>croft_55</td>\n",
       "      <td>@0_politics2 I guess cos covid is still rampan...</td>\n",
       "    </tr>\n",
       "    <tr>\n",
       "      <th>18844</th>\n",
       "      <td>4</td>\n",
       "      <td>1389339894552559616</td>\n",
       "      <td>2021-05-03 22:03:38</td>\n",
       "      <td>bc_news_addict</td>\n",
       "      <td>BC Covid Update:\\nFri-Sat 835\\nSat-Sun 671\\nSu...</td>\n",
       "    </tr>\n",
       "    <tr>\n",
       "      <th>18845</th>\n",
       "      <td>0</td>\n",
       "      <td>1389339894066171912</td>\n",
       "      <td>2021-05-03 22:03:38</td>\n",
       "      <td>Kristin75092375</td>\n",
       "      <td>You're ugly, dumb, and stupid but I love you. ...</td>\n",
       "    </tr>\n",
       "  </tbody>\n",
       "</table>\n",
       "<p>18846 rows × 5 columns</p>\n",
       "</div>"
      ],
      "text/plain": [
       "       Polarity                   ID                 Date             User  \\\n",
       "0             4  1389366309486567429  2021-05-03 23:48:36     flufferbot01   \n",
       "1             0  1389366309306212369  2021-05-03 23:48:35      interzone03   \n",
       "2             0  1389366308404404224  2021-05-03 23:48:35       SecretNews   \n",
       "3             0  1389366302746333184  2021-05-03 23:48:34    kenshixhimura   \n",
       "4             0  1389366302326861826  2021-05-03 23:48:34   connecticutvax   \n",
       "...         ...                  ...                  ...              ...   \n",
       "18841         4  1389339895349477376  2021-05-03 22:03:38   KevinSMcArthur   \n",
       "18842         4  1389339895194431492  2021-05-03 22:03:38  rubydeuxdetroit   \n",
       "18843         0  1389339894615531526  2021-05-03 22:03:38         croft_55   \n",
       "18844         4  1389339894552559616  2021-05-03 22:03:38   bc_news_addict   \n",
       "18845         0  1389339894066171912  2021-05-03 22:03:38  Kristin75092375   \n",
       "\n",
       "                                                   Tweet  \n",
       "0      @RichardKeppler1 @PlugInFUD Covid canât stop...  \n",
       "1      @IrishNorsewoman @MollyJongFast Your 6 year ol...  \n",
       "2      Rabbi disavowed by Chabad after posting âope...  \n",
       "3                             @elrosa_ Maaaan fuck covid  \n",
       "4      As of 05/03 19:48: New appointment(s) availabl...  \n",
       "...                                                  ...  \n",
       "18841   15 more deaths from Covid-19 (3 periods)... ugh.  \n",
       "18842  @jenmonkey1 @jameshamblin @gtconway3dg You thi...  \n",
       "18843  @0_politics2 I guess cos covid is still rampan...  \n",
       "18844  BC Covid Update:\\nFri-Sat 835\\nSat-Sun 671\\nSu...  \n",
       "18845  You're ugly, dumb, and stupid but I love you. ...  \n",
       "\n",
       "[18846 rows x 5 columns]"
      ]
     },
     "execution_count": 32,
     "metadata": {},
     "output_type": "execute_result"
    }
   ],
   "source": [
    "predictions1 = logmodel.predict(processed_features1)\n",
    "test['Polarity'] = predictions1\n",
    "test\n"
   ]
  },
  {
   "cell_type": "code",
   "execution_count": 33,
   "metadata": {},
   "outputs": [],
   "source": [
    "Final_TestDF = test.drop(['ID', 'Date', 'User'], axis=1, inplace=True)"
   ]
  },
  {
   "cell_type": "code",
   "execution_count": 38,
   "metadata": {},
   "outputs": [
    {
     "data": {
      "text/html": [
       "<div>\n",
       "<style scoped>\n",
       "    .dataframe tbody tr th:only-of-type {\n",
       "        vertical-align: middle;\n",
       "    }\n",
       "\n",
       "    .dataframe tbody tr th {\n",
       "        vertical-align: top;\n",
       "    }\n",
       "\n",
       "    .dataframe thead th {\n",
       "        text-align: right;\n",
       "    }\n",
       "</style>\n",
       "<table border=\"1\" class=\"dataframe\">\n",
       "  <thead>\n",
       "    <tr style=\"text-align: right;\">\n",
       "      <th></th>\n",
       "      <th>Polarity</th>\n",
       "      <th>Tweet</th>\n",
       "    </tr>\n",
       "  </thead>\n",
       "  <tbody>\n",
       "    <tr>\n",
       "      <th>0</th>\n",
       "      <td>4</td>\n",
       "      <td>@RichardKeppler1 @PlugInFUD Covid canât stop...</td>\n",
       "    </tr>\n",
       "    <tr>\n",
       "      <th>1</th>\n",
       "      <td>0</td>\n",
       "      <td>@IrishNorsewoman @MollyJongFast Your 6 year ol...</td>\n",
       "    </tr>\n",
       "    <tr>\n",
       "      <th>2</th>\n",
       "      <td>0</td>\n",
       "      <td>Rabbi disavowed by Chabad after posting âope...</td>\n",
       "    </tr>\n",
       "    <tr>\n",
       "      <th>3</th>\n",
       "      <td>0</td>\n",
       "      <td>@elrosa_ Maaaan fuck covid</td>\n",
       "    </tr>\n",
       "    <tr>\n",
       "      <th>4</th>\n",
       "      <td>0</td>\n",
       "      <td>As of 05/03 19:48: New appointment(s) availabl...</td>\n",
       "    </tr>\n",
       "  </tbody>\n",
       "</table>\n",
       "</div>"
      ],
      "text/plain": [
       "   Polarity                                              Tweet\n",
       "0         4  @RichardKeppler1 @PlugInFUD Covid canât stop...\n",
       "1         0  @IrishNorsewoman @MollyJongFast Your 6 year ol...\n",
       "2         0  Rabbi disavowed by Chabad after posting âope...\n",
       "3         0                         @elrosa_ Maaaan fuck covid\n",
       "4         0  As of 05/03 19:48: New appointment(s) availabl..."
      ]
     },
     "execution_count": 38,
     "metadata": {},
     "output_type": "execute_result"
    }
   ],
   "source": [
    "test.head()"
   ]
  },
  {
   "cell_type": "code",
   "execution_count": 40,
   "metadata": {},
   "outputs": [
    {
     "data": {
      "text/plain": [
       "(18846, 2)"
      ]
     },
     "execution_count": 40,
     "metadata": {},
     "output_type": "execute_result"
    }
   ],
   "source": [
    "test.shape"
   ]
  },
  {
   "cell_type": "code",
   "execution_count": 42,
   "metadata": {},
   "outputs": [],
   "source": [
    "# reduce the number of records to I can dump the data in the MySQL database.\n",
    "TestDF_final = test.iloc[0:1000]"
   ]
  },
  {
   "cell_type": "code",
   "execution_count": 43,
   "metadata": {},
   "outputs": [
    {
     "data": {
      "text/html": [
       "<div>\n",
       "<style scoped>\n",
       "    .dataframe tbody tr th:only-of-type {\n",
       "        vertical-align: middle;\n",
       "    }\n",
       "\n",
       "    .dataframe tbody tr th {\n",
       "        vertical-align: top;\n",
       "    }\n",
       "\n",
       "    .dataframe thead th {\n",
       "        text-align: right;\n",
       "    }\n",
       "</style>\n",
       "<table border=\"1\" class=\"dataframe\">\n",
       "  <thead>\n",
       "    <tr style=\"text-align: right;\">\n",
       "      <th></th>\n",
       "      <th>Polarity</th>\n",
       "      <th>Tweet</th>\n",
       "    </tr>\n",
       "  </thead>\n",
       "  <tbody>\n",
       "    <tr>\n",
       "      <th>0</th>\n",
       "      <td>4</td>\n",
       "      <td>@RichardKeppler1 @PlugInFUD Covid canât stop...</td>\n",
       "    </tr>\n",
       "    <tr>\n",
       "      <th>1</th>\n",
       "      <td>0</td>\n",
       "      <td>@IrishNorsewoman @MollyJongFast Your 6 year ol...</td>\n",
       "    </tr>\n",
       "    <tr>\n",
       "      <th>2</th>\n",
       "      <td>0</td>\n",
       "      <td>Rabbi disavowed by Chabad after posting âope...</td>\n",
       "    </tr>\n",
       "    <tr>\n",
       "      <th>3</th>\n",
       "      <td>0</td>\n",
       "      <td>@elrosa_ Maaaan fuck covid</td>\n",
       "    </tr>\n",
       "    <tr>\n",
       "      <th>4</th>\n",
       "      <td>0</td>\n",
       "      <td>As of 05/03 19:48: New appointment(s) availabl...</td>\n",
       "    </tr>\n",
       "  </tbody>\n",
       "</table>\n",
       "</div>"
      ],
      "text/plain": [
       "   Polarity                                              Tweet\n",
       "0         4  @RichardKeppler1 @PlugInFUD Covid canât stop...\n",
       "1         0  @IrishNorsewoman @MollyJongFast Your 6 year ol...\n",
       "2         0  Rabbi disavowed by Chabad after posting âope...\n",
       "3         0                         @elrosa_ Maaaan fuck covid\n",
       "4         0  As of 05/03 19:48: New appointment(s) availabl..."
      ]
     },
     "execution_count": 43,
     "metadata": {},
     "output_type": "execute_result"
    }
   ],
   "source": [
    "TestDF_final.head()"
   ]
  },
  {
   "cell_type": "code",
   "execution_count": 44,
   "metadata": {},
   "outputs": [
    {
     "data": {
      "text/plain": [
       "(1000, 2)"
      ]
     },
     "execution_count": 44,
     "metadata": {},
     "output_type": "execute_result"
    }
   ],
   "source": [
    "TestDF_final.shape"
   ]
  },
  {
   "cell_type": "code",
   "execution_count": 45,
   "metadata": {},
   "outputs": [],
   "source": [
    "TestDF_final.to_csv('test_final_data.csv')"
   ]
  },
  {
   "cell_type": "code",
   "execution_count": 48,
   "metadata": {},
   "outputs": [],
   "source": [
    "import string\n",
    "string.punctuation\n",
    "# Remove punctuation function\n",
    "def removePunctuation(text):\n",
    "    for eachPunct in string.punctuation:\n",
    "        text = text.replace(eachPunct, '')\n",
    "    return text"
   ]
  },
  {
   "cell_type": "code",
   "execution_count": 49,
   "metadata": {},
   "outputs": [
    {
     "name": "stderr",
     "output_type": "stream",
     "text": [
      "<ipython-input-49-d130e412cb9e>:1: SettingWithCopyWarning: \n",
      "A value is trying to be set on a copy of a slice from a DataFrame.\n",
      "Try using .loc[row_indexer,col_indexer] = value instead\n",
      "\n",
      "See the caveats in the documentation: https://pandas.pydata.org/pandas-docs/stable/user_guide/indexing.html#returning-a-view-versus-a-copy\n",
      "  TestDF_final['Tweet'] = TestDF_final['Tweet'].apply(removePunctuation)\n"
     ]
    }
   ],
   "source": [
    "TestDF_final['Tweet'] = TestDF_final['Tweet'].apply(removePunctuation)"
   ]
  },
  {
   "cell_type": "code",
   "execution_count": 50,
   "metadata": {},
   "outputs": [],
   "source": [
    "#tokenization to the tweet_text\n",
    "from nltk.tokenize import word_tokenize\n",
    "def tokenize_text(text):\n",
    "    text = word_tokenize(text.lower())\n",
    "    return text"
   ]
  },
  {
   "cell_type": "code",
   "execution_count": 51,
   "metadata": {},
   "outputs": [
    {
     "name": "stderr",
     "output_type": "stream",
     "text": [
      "<ipython-input-51-6404c44810e9>:1: SettingWithCopyWarning: \n",
      "A value is trying to be set on a copy of a slice from a DataFrame.\n",
      "Try using .loc[row_indexer,col_indexer] = value instead\n",
      "\n",
      "See the caveats in the documentation: https://pandas.pydata.org/pandas-docs/stable/user_guide/indexing.html#returning-a-view-versus-a-copy\n",
      "  TestDF_final['Tweet'] = TestDF_final['Tweet'].apply(tokenize_text)\n"
     ]
    }
   ],
   "source": [
    "TestDF_final['Tweet'] = TestDF_final['Tweet'].apply(tokenize_text)"
   ]
  },
  {
   "cell_type": "code",
   "execution_count": 52,
   "metadata": {},
   "outputs": [
    {
     "data": {
      "text/html": [
       "<div>\n",
       "<style scoped>\n",
       "    .dataframe tbody tr th:only-of-type {\n",
       "        vertical-align: middle;\n",
       "    }\n",
       "\n",
       "    .dataframe tbody tr th {\n",
       "        vertical-align: top;\n",
       "    }\n",
       "\n",
       "    .dataframe thead th {\n",
       "        text-align: right;\n",
       "    }\n",
       "</style>\n",
       "<table border=\"1\" class=\"dataframe\">\n",
       "  <thead>\n",
       "    <tr style=\"text-align: right;\">\n",
       "      <th></th>\n",
       "      <th>Polarity</th>\n",
       "      <th>Tweet</th>\n",
       "    </tr>\n",
       "  </thead>\n",
       "  <tbody>\n",
       "    <tr>\n",
       "      <th>0</th>\n",
       "      <td>4</td>\n",
       "      <td>[richardkeppler1, pluginfud, covid, canât, s...</td>\n",
       "    </tr>\n",
       "    <tr>\n",
       "      <th>1</th>\n",
       "      <td>0</td>\n",
       "      <td>[irishnorsewoman, mollyjongfast, your, 6, year...</td>\n",
       "    </tr>\n",
       "    <tr>\n",
       "      <th>2</th>\n",
       "      <td>0</td>\n",
       "      <td>[rabbi, disavowed, by, chabad, after, posting,...</td>\n",
       "    </tr>\n",
       "    <tr>\n",
       "      <th>3</th>\n",
       "      <td>0</td>\n",
       "      <td>[elrosa, maaaan, fuck, covid]</td>\n",
       "    </tr>\n",
       "    <tr>\n",
       "      <th>4</th>\n",
       "      <td>0</td>\n",
       "      <td>[as, of, 0503, 1948, new, appointments, availa...</td>\n",
       "    </tr>\n",
       "  </tbody>\n",
       "</table>\n",
       "</div>"
      ],
      "text/plain": [
       "   Polarity                                              Tweet\n",
       "0         4  [richardkeppler1, pluginfud, covid, canât, s...\n",
       "1         0  [irishnorsewoman, mollyjongfast, your, 6, year...\n",
       "2         0  [rabbi, disavowed, by, chabad, after, posting,...\n",
       "3         0                      [elrosa, maaaan, fuck, covid]\n",
       "4         0  [as, of, 0503, 1948, new, appointments, availa..."
      ]
     },
     "execution_count": 52,
     "metadata": {},
     "output_type": "execute_result"
    }
   ],
   "source": [
    "TestDF_final.head()"
   ]
  },
  {
   "cell_type": "code",
   "execution_count": 53,
   "metadata": {},
   "outputs": [],
   "source": [
    "TestDF_final.to_csv('test_final_data.csv')"
   ]
  },
  {
   "cell_type": "code",
   "execution_count": 55,
   "metadata": {},
   "outputs": [],
   "source": [
    "#Convert file to HTML\n",
    "#!jupyter nbconvert --execute --to html Tweets_LogModel.ipynb"
   ]
  },
  {
   "cell_type": "code",
   "execution_count": null,
   "metadata": {},
   "outputs": [],
   "source": []
  }
 ],
 "metadata": {
  "kernelspec": {
   "display_name": "Python 3",
   "language": "python",
   "name": "python3"
  },
  "language_info": {
   "codemirror_mode": {
    "name": "ipython",
    "version": 3
   },
   "file_extension": ".py",
   "mimetype": "text/x-python",
   "name": "python",
   "nbconvert_exporter": "python",
   "pygments_lexer": "ipython3",
   "version": "3.9.2"
  }
 },
 "nbformat": 4,
 "nbformat_minor": 4
}
