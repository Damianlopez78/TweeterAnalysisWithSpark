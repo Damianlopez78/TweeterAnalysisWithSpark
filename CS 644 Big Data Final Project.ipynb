{
 "cells": [
  {
   "cell_type": "markdown",
   "id": "compliant-luther",
   "metadata": {},
   "source": [
    "# BIG DATA CS644 FINAL PROJECT \n",
    "\n",
    "<ul><li>SENTIMENTAL ANALYSIS</li>\n",
    "    <li>DAMIAN LOPEZ </li>\n",
    "<li> New Jersey Insitute of technology</li></ul>\n",
    "    "
   ]
  },
  {
   "cell_type": "markdown",
   "id": "exact-trust",
   "metadata": {},
   "source": [
    "### TRAINING DATA"
   ]
  },
  {
   "cell_type": "code",
   "execution_count": 56,
   "id": "advisory-combine",
   "metadata": {},
   "outputs": [
    {
     "name": "stdout",
     "output_type": "stream",
     "text": [
      "Collecting pyspark\n",
      "  Downloading pyspark-3.1.1.tar.gz (212.3 MB)\n",
      "\u001b[K     |████████████████████████████████| 212.3 MB 23 kB/s  eta 0:00:01    |███▋                            | 23.9 MB 6.0 MB/s eta 0:00:32     |████▏                           | 27.5 MB 6.0 MB/s eta 0:00:32     |████▊                           | 31.5 MB 9.3 MB/s eta 0:00:20     |████▉                           | 32.0 MB 9.3 MB/s eta 0:00:20     |█████████▍                      | 62.0 MB 9.0 MB/s eta 0:00:17\n",
      "\u001b[?25hCollecting py4j==0.10.9\n",
      "  Downloading py4j-0.10.9-py2.py3-none-any.whl (198 kB)\n",
      "\u001b[K     |████████████████████████████████| 198 kB 2.7 MB/s eta 0:00:01\n",
      "\u001b[?25hBuilding wheels for collected packages: pyspark\n",
      "  Building wheel for pyspark (setup.py) ... \u001b[?25ldone\n",
      "\u001b[?25h  Created wheel for pyspark: filename=pyspark-3.1.1-py2.py3-none-any.whl size=212767604 sha256=f76fd233108c4baa7e1d8436806ac9c5ee4c27d9d00129911706dff667f9f038\n",
      "  Stored in directory: /Users/damian/Library/Caches/pip/wheels/23/bf/e9/9f3500437422e2ab82246f25a51ee480a44d4efc6c27e50d33\n",
      "Successfully built pyspark\n",
      "Installing collected packages: py4j, pyspark\n",
      "Successfully installed py4j-0.10.9 pyspark-3.1.1\n",
      "Note: you may need to restart the kernel to use updated packages.\n"
     ]
    }
   ],
   "source": [
    "pip install pyspark"
   ]
  },
  {
   "cell_type": "code",
   "execution_count": 51,
   "id": "competitive-terry",
   "metadata": {},
   "outputs": [],
   "source": [
    "import pandas as pd \n",
    "from pandas import DataFrame\n",
    "from tweepy.streaming import StreamListener\n",
    "import numpy as np  \n",
    "import matplotlib.pyplot as plt  \n",
    "import seaborn as sns\n",
    "import os\n",
    "import csv"
   ]
  },
  {
   "cell_type": "code",
   "execution_count": 22,
   "id": "binding-cylinder",
   "metadata": {},
   "outputs": [],
   "source": [
    "# Display all columns and rows\n",
    "pd.set_option('display.max_columns', None)\n",
    "pd.set_option('display.max_rows', None)"
   ]
  },
  {
   "cell_type": "code",
   "execution_count": 23,
   "id": "particular-italy",
   "metadata": {},
   "outputs": [
    {
     "data": {
      "text/html": [
       "<div>\n",
       "<style scoped>\n",
       "    .dataframe tbody tr th:only-of-type {\n",
       "        vertical-align: middle;\n",
       "    }\n",
       "\n",
       "    .dataframe tbody tr th {\n",
       "        vertical-align: top;\n",
       "    }\n",
       "\n",
       "    .dataframe thead th {\n",
       "        text-align: right;\n",
       "    }\n",
       "</style>\n",
       "<table border=\"1\" class=\"dataframe\">\n",
       "  <thead>\n",
       "    <tr style=\"text-align: right;\">\n",
       "      <th></th>\n",
       "      <th>0</th>\n",
       "      <th>1</th>\n",
       "      <th>2</th>\n",
       "      <th>3</th>\n",
       "      <th>4</th>\n",
       "      <th>5</th>\n",
       "    </tr>\n",
       "  </thead>\n",
       "  <tbody>\n",
       "    <tr>\n",
       "      <th>0</th>\n",
       "      <td>0</td>\n",
       "      <td>1467810369</td>\n",
       "      <td>Mon Apr 06 22:19:45 PDT 2009</td>\n",
       "      <td>NO_QUERY</td>\n",
       "      <td>_TheSpecialOne_</td>\n",
       "      <td>@switchfoot http://twitpic.com/2y1zl - Awww, t...</td>\n",
       "    </tr>\n",
       "    <tr>\n",
       "      <th>1</th>\n",
       "      <td>0</td>\n",
       "      <td>1467810672</td>\n",
       "      <td>Mon Apr 06 22:19:49 PDT 2009</td>\n",
       "      <td>NO_QUERY</td>\n",
       "      <td>scotthamilton</td>\n",
       "      <td>is upset that he can't update his Facebook by ...</td>\n",
       "    </tr>\n",
       "    <tr>\n",
       "      <th>2</th>\n",
       "      <td>0</td>\n",
       "      <td>1467810917</td>\n",
       "      <td>Mon Apr 06 22:19:53 PDT 2009</td>\n",
       "      <td>NO_QUERY</td>\n",
       "      <td>mattycus</td>\n",
       "      <td>@Kenichan I dived many times for the ball. Man...</td>\n",
       "    </tr>\n",
       "    <tr>\n",
       "      <th>3</th>\n",
       "      <td>0</td>\n",
       "      <td>1467811184</td>\n",
       "      <td>Mon Apr 06 22:19:57 PDT 2009</td>\n",
       "      <td>NO_QUERY</td>\n",
       "      <td>ElleCTF</td>\n",
       "      <td>my whole body feels itchy and like its on fire</td>\n",
       "    </tr>\n",
       "    <tr>\n",
       "      <th>4</th>\n",
       "      <td>0</td>\n",
       "      <td>1467811193</td>\n",
       "      <td>Mon Apr 06 22:19:57 PDT 2009</td>\n",
       "      <td>NO_QUERY</td>\n",
       "      <td>Karoli</td>\n",
       "      <td>@nationwideclass no, it's not behaving at all....</td>\n",
       "    </tr>\n",
       "  </tbody>\n",
       "</table>\n",
       "</div>"
      ],
      "text/plain": [
       "   0           1                             2         3                4  \\\n",
       "0  0  1467810369  Mon Apr 06 22:19:45 PDT 2009  NO_QUERY  _TheSpecialOne_   \n",
       "1  0  1467810672  Mon Apr 06 22:19:49 PDT 2009  NO_QUERY    scotthamilton   \n",
       "2  0  1467810917  Mon Apr 06 22:19:53 PDT 2009  NO_QUERY         mattycus   \n",
       "3  0  1467811184  Mon Apr 06 22:19:57 PDT 2009  NO_QUERY          ElleCTF   \n",
       "4  0  1467811193  Mon Apr 06 22:19:57 PDT 2009  NO_QUERY           Karoli   \n",
       "\n",
       "                                                   5  \n",
       "0  @switchfoot http://twitpic.com/2y1zl - Awww, t...  \n",
       "1  is upset that he can't update his Facebook by ...  \n",
       "2  @Kenichan I dived many times for the ball. Man...  \n",
       "3    my whole body feels itchy and like its on fire   \n",
       "4  @nationwideclass no, it's not behaving at all....  "
      ]
     },
     "execution_count": 23,
     "metadata": {},
     "output_type": "execute_result"
    }
   ],
   "source": [
    "# Read the data in ****** TRAINING DATA **\n",
    "tweet_trainDF = pd.read_csv('tweeter_train.csv', header=None)\n",
    "tweet_trainDF.head()"
   ]
  },
  {
   "cell_type": "code",
   "execution_count": 13,
   "id": "worldwide-malawi",
   "metadata": {},
   "outputs": [
    {
     "data": {
      "text/html": [
       "<div>\n",
       "<style scoped>\n",
       "    .dataframe tbody tr th:only-of-type {\n",
       "        vertical-align: middle;\n",
       "    }\n",
       "\n",
       "    .dataframe tbody tr th {\n",
       "        vertical-align: top;\n",
       "    }\n",
       "\n",
       "    .dataframe thead th {\n",
       "        text-align: right;\n",
       "    }\n",
       "</style>\n",
       "<table border=\"1\" class=\"dataframe\">\n",
       "  <thead>\n",
       "    <tr style=\"text-align: right;\">\n",
       "      <th></th>\n",
       "      <th>Polarity</th>\n",
       "      <th>tweet_id</th>\n",
       "      <th>Date</th>\n",
       "      <th>Query?</th>\n",
       "      <th>User</th>\n",
       "      <th>tweet_text</th>\n",
       "    </tr>\n",
       "  </thead>\n",
       "  <tbody>\n",
       "    <tr>\n",
       "      <th>0</th>\n",
       "      <td>0</td>\n",
       "      <td>1467810369</td>\n",
       "      <td>Mon Apr 06 22:19:45 PDT 2009</td>\n",
       "      <td>NO_QUERY</td>\n",
       "      <td>_TheSpecialOne_</td>\n",
       "      <td>@switchfoot http://twitpic.com/2y1zl - Awww, t...</td>\n",
       "    </tr>\n",
       "    <tr>\n",
       "      <th>1</th>\n",
       "      <td>0</td>\n",
       "      <td>1467810672</td>\n",
       "      <td>Mon Apr 06 22:19:49 PDT 2009</td>\n",
       "      <td>NO_QUERY</td>\n",
       "      <td>scotthamilton</td>\n",
       "      <td>is upset that he can't update his Facebook by ...</td>\n",
       "    </tr>\n",
       "    <tr>\n",
       "      <th>2</th>\n",
       "      <td>0</td>\n",
       "      <td>1467810917</td>\n",
       "      <td>Mon Apr 06 22:19:53 PDT 2009</td>\n",
       "      <td>NO_QUERY</td>\n",
       "      <td>mattycus</td>\n",
       "      <td>@Kenichan I dived many times for the ball. Man...</td>\n",
       "    </tr>\n",
       "    <tr>\n",
       "      <th>3</th>\n",
       "      <td>0</td>\n",
       "      <td>1467811184</td>\n",
       "      <td>Mon Apr 06 22:19:57 PDT 2009</td>\n",
       "      <td>NO_QUERY</td>\n",
       "      <td>ElleCTF</td>\n",
       "      <td>my whole body feels itchy and like its on fire</td>\n",
       "    </tr>\n",
       "    <tr>\n",
       "      <th>4</th>\n",
       "      <td>0</td>\n",
       "      <td>1467811193</td>\n",
       "      <td>Mon Apr 06 22:19:57 PDT 2009</td>\n",
       "      <td>NO_QUERY</td>\n",
       "      <td>Karoli</td>\n",
       "      <td>@nationwideclass no, it's not behaving at all....</td>\n",
       "    </tr>\n",
       "  </tbody>\n",
       "</table>\n",
       "</div>"
      ],
      "text/plain": [
       "   Polarity    tweet_id                          Date    Query?  \\\n",
       "0         0  1467810369  Mon Apr 06 22:19:45 PDT 2009  NO_QUERY   \n",
       "1         0  1467810672  Mon Apr 06 22:19:49 PDT 2009  NO_QUERY   \n",
       "2         0  1467810917  Mon Apr 06 22:19:53 PDT 2009  NO_QUERY   \n",
       "3         0  1467811184  Mon Apr 06 22:19:57 PDT 2009  NO_QUERY   \n",
       "4         0  1467811193  Mon Apr 06 22:19:57 PDT 2009  NO_QUERY   \n",
       "\n",
       "              User                                         tweet_text  \n",
       "0  _TheSpecialOne_  @switchfoot http://twitpic.com/2y1zl - Awww, t...  \n",
       "1    scotthamilton  is upset that he can't update his Facebook by ...  \n",
       "2         mattycus  @Kenichan I dived many times for the ball. Man...  \n",
       "3          ElleCTF    my whole body feels itchy and like its on fire   \n",
       "4           Karoli  @nationwideclass no, it's not behaving at all....  "
      ]
     },
     "execution_count": 13,
     "metadata": {},
     "output_type": "execute_result"
    }
   ],
   "source": [
    "# Rename columns\n",
    "tweet_trainDF.rename(columns = {0 : 'Polarity', 1:'tweet_id', 2:'Date', 3:'Query?', 4:'User', 5:'tweet_text'}, inplace=True)\n",
    "tweet_trainDF.head()"
   ]
  },
  {
   "cell_type": "code",
   "execution_count": 25,
   "id": "enclosed-scanner",
   "metadata": {},
   "outputs": [
    {
     "data": {
      "text/plain": [
       "(1600000, 6)"
      ]
     },
     "execution_count": 25,
     "metadata": {},
     "output_type": "execute_result"
    }
   ],
   "source": [
    "tweet_trainDF.shape"
   ]
  },
  {
   "cell_type": "markdown",
   "id": "moderate-mother",
   "metadata": {},
   "source": [
    "### TESTING DATA"
   ]
  },
  {
   "cell_type": "code",
   "execution_count": 35,
   "id": "growing-district",
   "metadata": {},
   "outputs": [],
   "source": [
    "# Reading and Processing ***** TESTING DATA *******\n",
    "import tweepy \n",
    "import socket\n",
    "import sys\n",
    "import requests\n",
    "import requests_oauthlib\n",
    "import json\n",
    "#import csv"
   ]
  },
  {
   "cell_type": "code",
   "execution_count": 36,
   "id": "iraqi-asbestos",
   "metadata": {},
   "outputs": [],
   "source": [
    "# variables that will be used in OAuth for connecting to Twitter\n",
    "ACCESS_TOKEN = '1216833846-zgaGaZMMJ2FIzdXtfLWPjBNhmn29EYs26XmxE7h'\n",
    "ACCESS_SECRET = 'Yi9flb2I9KoviwODOiBHxzGwKI91WMqV9C40WKLmeArrG'\n",
    "CONSUMER_KEY = 'ojpw4liQ6rOmfaAV0ZyEmoQOx'\n",
    "CONSUMER_SECRET = 'PkzQRxU5ejErQyiMlxZrnFhuc1fv1b75zE6icHZz58g3twQGeb'\n",
    "my_auth = tweepy.OAuthHandler(CONSUMER_KEY, CONSUMER_SECRET)\n",
    "my_auth.set_access_token(ACCESS_TOKEN, ACCESS_SECRET)\n"
   ]
  },
  {
   "cell_type": "code",
   "execution_count": 3,
   "id": "elect-current",
   "metadata": {},
   "outputs": [],
   "source": [
    "#function called get_tweets that will call the Twitter API URL and return the response for a stream of tweets\n",
    "def get_tweets():\n",
    "    url = 'https://stream.twitter.com/1.1/statuses/filter.json'\n",
    "    query_data = [('language', 'en'), ('locations', '-130,-20,100,50'),('track','#')]\n",
    "    query_url = url + '?' + '&'.join([str(t[0]) + '=' + str(t[1]) for t in query_data])\n",
    "    response = requests.get(query_url, auth=my_auth, stream=True)\n",
    "    print(query_url, response)\n",
    "    return response"
   ]
  },
  {
   "cell_type": "code",
   "execution_count": 4,
   "id": "elder-coaching",
   "metadata": {},
   "outputs": [],
   "source": [
    "def send_tweets_to_spark(http_resp, tcp_connection):\n",
    "    for line in http_resp.iter_lines():\n",
    "        try:\n",
    "            full_tweet = json.loads(line)\n",
    "            tweet_text = full_tweet['text']\n",
    "            tweet_screenName = full_tweet['user']['screen_name']\n",
    "            tweet_source = full_tweet['source']\n",
    "            tweet_created = full_tweet['created_at']\n",
    "            #print(\"Tweet Text: \" + tweet_text)\n",
    "            #print (\"------------------------------------------\")\n",
    "            tcp_connection.send(tweet_text + '\\n')\n",
    "        except:\n",
    "            e = sys.exc_info()[0]\n",
    "            print(\"Error: %s\" % e)"
   ]
  },
  {
   "cell_type": "code",
   "execution_count": 34,
   "id": "economic-stations",
   "metadata": {},
   "outputs": [],
   "source": [
    "#conn = None\n",
    "#resp = get_tweets()\n",
    "#send_tweets_to_spark(resp, conn)\n",
    "#print(send_tweets_to_spark)"
   ]
  },
  {
   "cell_type": "code",
   "execution_count": 40,
   "id": "banned-franklin",
   "metadata": {},
   "outputs": [],
   "source": [
    "# passing the authorization detalais\n",
    "api = tweepy.API(my_auth, wait_on_rate_limit=True)\n",
    "csvFile = open('tweeter_test.csv', 'w')\n",
    "csvWriter = csv.writer(csvFile)"
   ]
  },
  {
   "cell_type": "code",
   "execution_count": 41,
   "id": "applicable-graduate",
   "metadata": {},
   "outputs": [],
   "source": [
    "# Sentimetal Analysis on COVID\n",
    "search_word = 'COVID'\n",
    "new_search = search_word+\" -filter:retweets\""
   ]
  },
  {
   "cell_type": "code",
   "execution_count": 48,
   "id": "spectacular-batch",
   "metadata": {},
   "outputs": [],
   "source": [
    "# Pulling tweets metadata for analysis \n",
    "for tweet in tweepy.Cursor(api.search, q=new_search, count=160000, lang='en', since_id=0).items():\n",
    "    csvWriter.writerow([tweet.id_str, tweet.created_at, tweet.text.encode(\"utf-8\").decode(\"utf-8\"), tweet.user.screen_name, tweet.user.location])\n",
    "    #outtweets = [[tweet.id_str, tweet.created_at, tweet.text.encode(\"utf-8\").decode(\"utf-8\"), tweet.user.screen_name, tweet.user.location]]\n",
    "    \n",
    "# Dataframe\n",
    "#tweet_testDF = DataFrame(outtweets, columns=['tweet_id','Date', 'tweet_text', 'User', 'User_location'])\n",
    "#tweet_testDF.to_csv('tweeter_test.csv', index=False)\n"
   ]
  },
  {
   "cell_type": "code",
   "execution_count": 46,
   "id": "attractive-directory",
   "metadata": {},
   "outputs": [
    {
     "data": {
      "text/html": [
       "<div>\n",
       "<style scoped>\n",
       "    .dataframe tbody tr th:only-of-type {\n",
       "        vertical-align: middle;\n",
       "    }\n",
       "\n",
       "    .dataframe tbody tr th {\n",
       "        vertical-align: top;\n",
       "    }\n",
       "\n",
       "    .dataframe thead th {\n",
       "        text-align: right;\n",
       "    }\n",
       "</style>\n",
       "<table border=\"1\" class=\"dataframe\">\n",
       "  <thead>\n",
       "    <tr style=\"text-align: right;\">\n",
       "      <th></th>\n",
       "      <th>0</th>\n",
       "      <th>1</th>\n",
       "      <th>2</th>\n",
       "      <th>3</th>\n",
       "      <th>4</th>\n",
       "    </tr>\n",
       "  </thead>\n",
       "  <tbody>\n",
       "    <tr>\n",
       "      <th>0</th>\n",
       "      <td>1383059528766345216</td>\n",
       "      <td>2021-04-16 14:07:42</td>\n",
       "      <td>@RawStory Wait, what? I thought that COVID was...</td>\n",
       "      <td>jjgdenisrobert</td>\n",
       "      <td>NaN</td>\n",
       "    </tr>\n",
       "    <tr>\n",
       "      <th>1</th>\n",
       "      <td>1383059528695099395</td>\n",
       "      <td>2021-04-16 14:07:42</td>\n",
       "      <td>West Philippine Sea. Racism against Asians sa ...</td>\n",
       "      <td>samuidesu07</td>\n",
       "      <td>NaN</td>\n",
       "    </tr>\n",
       "    <tr>\n",
       "      <th>2</th>\n",
       "      <td>1383059527495475205</td>\n",
       "      <td>2021-04-16 14:07:42</td>\n",
       "      <td>Brazil's hospitals running out of sedatives as...</td>\n",
       "      <td>Thesciencevort1</td>\n",
       "      <td>United States</td>\n",
       "    </tr>\n",
       "    <tr>\n",
       "      <th>3</th>\n",
       "      <td>1383059526472060929</td>\n",
       "      <td>2021-04-16 14:07:41</td>\n",
       "      <td>Greetings Tigers🐯 , \\nWe have endured rocky tu...</td>\n",
       "      <td>mikayj123</td>\n",
       "      <td>NaN</td>\n",
       "    </tr>\n",
       "    <tr>\n",
       "      <th>4</th>\n",
       "      <td>1383059526174318594</td>\n",
       "      <td>2021-04-16 14:07:41</td>\n",
       "      <td>@AP This is misleading. Covid is still out the...</td>\n",
       "      <td>yungperrier</td>\n",
       "      <td>Vero Beach, FL</td>\n",
       "    </tr>\n",
       "  </tbody>\n",
       "</table>\n",
       "</div>"
      ],
      "text/plain": [
       "                     0                    1  \\\n",
       "0  1383059528766345216  2021-04-16 14:07:42   \n",
       "1  1383059528695099395  2021-04-16 14:07:42   \n",
       "2  1383059527495475205  2021-04-16 14:07:42   \n",
       "3  1383059526472060929  2021-04-16 14:07:41   \n",
       "4  1383059526174318594  2021-04-16 14:07:41   \n",
       "\n",
       "                                                   2                3  \\\n",
       "0  @RawStory Wait, what? I thought that COVID was...   jjgdenisrobert   \n",
       "1  West Philippine Sea. Racism against Asians sa ...      samuidesu07   \n",
       "2  Brazil's hospitals running out of sedatives as...  Thesciencevort1   \n",
       "3  Greetings Tigers🐯 , \\nWe have endured rocky tu...        mikayj123   \n",
       "4  @AP This is misleading. Covid is still out the...      yungperrier   \n",
       "\n",
       "                4  \n",
       "0             NaN  \n",
       "1             NaN  \n",
       "2   United States  \n",
       "3             NaN  \n",
       "4  Vero Beach, FL  "
      ]
     },
     "execution_count": 46,
     "metadata": {},
     "output_type": "execute_result"
    }
   ],
   "source": [
    "tweet_testDF = pd.read_csv('tweeter_test.csv', header=None)\n",
    "tweet_testDF.head()"
   ]
  },
  {
   "cell_type": "code",
   "execution_count": 47,
   "id": "static-orchestra",
   "metadata": {},
   "outputs": [
    {
     "data": {
      "text/plain": [
       "(201322, 5)"
      ]
     },
     "execution_count": 47,
     "metadata": {},
     "output_type": "execute_result"
    }
   ],
   "source": [
    "tweet_testDF.shape"
   ]
  },
  {
   "cell_type": "code",
   "execution_count": 49,
   "id": "electronic-beach",
   "metadata": {},
   "outputs": [
    {
     "data": {
      "text/html": [
       "<div>\n",
       "<style scoped>\n",
       "    .dataframe tbody tr th:only-of-type {\n",
       "        vertical-align: middle;\n",
       "    }\n",
       "\n",
       "    .dataframe tbody tr th {\n",
       "        vertical-align: top;\n",
       "    }\n",
       "\n",
       "    .dataframe thead th {\n",
       "        text-align: right;\n",
       "    }\n",
       "</style>\n",
       "<table border=\"1\" class=\"dataframe\">\n",
       "  <thead>\n",
       "    <tr style=\"text-align: right;\">\n",
       "      <th></th>\n",
       "      <th>tweet_id</th>\n",
       "      <th>Date</th>\n",
       "      <th>tweet_text</th>\n",
       "      <th>User</th>\n",
       "      <th>User_location</th>\n",
       "    </tr>\n",
       "  </thead>\n",
       "  <tbody>\n",
       "    <tr>\n",
       "      <th>0</th>\n",
       "      <td>1383059528766345216</td>\n",
       "      <td>2021-04-16 14:07:42</td>\n",
       "      <td>@RawStory Wait, what? I thought that COVID was...</td>\n",
       "      <td>jjgdenisrobert</td>\n",
       "      <td>NaN</td>\n",
       "    </tr>\n",
       "    <tr>\n",
       "      <th>1</th>\n",
       "      <td>1383059528695099395</td>\n",
       "      <td>2021-04-16 14:07:42</td>\n",
       "      <td>West Philippine Sea. Racism against Asians sa ...</td>\n",
       "      <td>samuidesu07</td>\n",
       "      <td>NaN</td>\n",
       "    </tr>\n",
       "    <tr>\n",
       "      <th>2</th>\n",
       "      <td>1383059527495475205</td>\n",
       "      <td>2021-04-16 14:07:42</td>\n",
       "      <td>Brazil's hospitals running out of sedatives as...</td>\n",
       "      <td>Thesciencevort1</td>\n",
       "      <td>United States</td>\n",
       "    </tr>\n",
       "    <tr>\n",
       "      <th>3</th>\n",
       "      <td>1383059526472060929</td>\n",
       "      <td>2021-04-16 14:07:41</td>\n",
       "      <td>Greetings Tigers🐯 , \\nWe have endured rocky tu...</td>\n",
       "      <td>mikayj123</td>\n",
       "      <td>NaN</td>\n",
       "    </tr>\n",
       "    <tr>\n",
       "      <th>4</th>\n",
       "      <td>1383059526174318594</td>\n",
       "      <td>2021-04-16 14:07:41</td>\n",
       "      <td>@AP This is misleading. Covid is still out the...</td>\n",
       "      <td>yungperrier</td>\n",
       "      <td>Vero Beach, FL</td>\n",
       "    </tr>\n",
       "  </tbody>\n",
       "</table>\n",
       "</div>"
      ],
      "text/plain": [
       "              tweet_id                 Date  \\\n",
       "0  1383059528766345216  2021-04-16 14:07:42   \n",
       "1  1383059528695099395  2021-04-16 14:07:42   \n",
       "2  1383059527495475205  2021-04-16 14:07:42   \n",
       "3  1383059526472060929  2021-04-16 14:07:41   \n",
       "4  1383059526174318594  2021-04-16 14:07:41   \n",
       "\n",
       "                                          tweet_text             User  \\\n",
       "0  @RawStory Wait, what? I thought that COVID was...   jjgdenisrobert   \n",
       "1  West Philippine Sea. Racism against Asians sa ...      samuidesu07   \n",
       "2  Brazil's hospitals running out of sedatives as...  Thesciencevort1   \n",
       "3  Greetings Tigers🐯 , \\nWe have endured rocky tu...        mikayj123   \n",
       "4  @AP This is misleading. Covid is still out the...      yungperrier   \n",
       "\n",
       "    User_location  \n",
       "0             NaN  \n",
       "1             NaN  \n",
       "2   United States  \n",
       "3             NaN  \n",
       "4  Vero Beach, FL  "
      ]
     },
     "execution_count": 49,
     "metadata": {},
     "output_type": "execute_result"
    }
   ],
   "source": [
    "tweet_testDF.rename(columns={0:'tweet_id', 1:'Date', 2:'tweet_text', 3:'User', 4:'User_location'}, inplace=True)\n",
    "tweet_testDF.head()"
   ]
  },
  {
   "cell_type": "code",
   "execution_count": 52,
   "id": "objective-champion",
   "metadata": {},
   "outputs": [],
   "source": []
  },
  {
   "cell_type": "code",
   "execution_count": 54,
   "id": "subject-attention",
   "metadata": {},
   "outputs": [
    {
     "ename": "OSError",
     "evalue": "[Errno 48] Address already in use",
     "output_type": "error",
     "traceback": [
      "\u001b[0;31m---------------------------------------------------------------------------\u001b[0m",
      "\u001b[0;31mOSError\u001b[0m                                   Traceback (most recent call last)",
      "\u001b[0;32m<ipython-input-54-63d7413ae186>\u001b[0m in \u001b[0;36m<module>\u001b[0;34m\u001b[0m\n\u001b[1;32m     10\u001b[0m     \u001b[0mhost\u001b[0m \u001b[0;34m=\u001b[0m \u001b[0;34m\"localhost\"\u001b[0m      \u001b[0;31m# Get local machine name\u001b[0m\u001b[0;34m\u001b[0m\u001b[0;34m\u001b[0m\u001b[0m\n\u001b[1;32m     11\u001b[0m     \u001b[0mport\u001b[0m \u001b[0;34m=\u001b[0m \u001b[0;36m5555\u001b[0m             \u001b[0;31m# Reserve a port for your service.\u001b[0m\u001b[0;34m\u001b[0m\u001b[0;34m\u001b[0m\u001b[0m\n\u001b[0;32m---> 12\u001b[0;31m     \u001b[0ms\u001b[0m\u001b[0;34m.\u001b[0m\u001b[0mbind\u001b[0m\u001b[0;34m(\u001b[0m\u001b[0;34m(\u001b[0m\u001b[0mhost\u001b[0m\u001b[0;34m,\u001b[0m \u001b[0mport\u001b[0m\u001b[0;34m)\u001b[0m\u001b[0;34m)\u001b[0m    \u001b[0;31m# Bind to the port\u001b[0m\u001b[0;34m\u001b[0m\u001b[0;34m\u001b[0m\u001b[0m\n\u001b[0m\u001b[1;32m     13\u001b[0m \u001b[0;34m\u001b[0m\u001b[0m\n\u001b[1;32m     14\u001b[0m     \u001b[0mprint\u001b[0m\u001b[0;34m(\u001b[0m\u001b[0;34m\"Listening on port: %s\"\u001b[0m \u001b[0;34m%\u001b[0m \u001b[0mstr\u001b[0m\u001b[0;34m(\u001b[0m\u001b[0mport\u001b[0m\u001b[0;34m)\u001b[0m\u001b[0;34m)\u001b[0m\u001b[0;34m\u001b[0m\u001b[0;34m\u001b[0m\u001b[0m\n",
      "\u001b[0;31mOSError\u001b[0m: [Errno 48] Address already in use"
     ]
    }
   ],
   "source": []
  },
  {
   "cell_type": "code",
   "execution_count": 61,
   "id": "neural-arbor",
   "metadata": {},
   "outputs": [
    {
     "ename": "ValueError",
     "evalue": "Cannot run multiple SparkContexts at once; existing SparkContext(app=Twitter Demo, master=local[2]) created by __init__ at <ipython-input-57-35bee233e478>:15 ",
     "output_type": "error",
     "traceback": [
      "\u001b[0;31m---------------------------------------------------------------------------\u001b[0m",
      "\u001b[0;31mValueError\u001b[0m                                Traceback (most recent call last)",
      "\u001b[0;32m<ipython-input-61-42ab295abc35>\u001b[0m in \u001b[0;36m<module>\u001b[0;34m\u001b[0m\n\u001b[1;32m     13\u001b[0m \u001b[0;34m\u001b[0m\u001b[0m\n\u001b[1;32m     14\u001b[0m \u001b[0;31m# SparkContext(“local[1]”) would not work with Streaming bc 2 threads are required\u001b[0m\u001b[0;34m\u001b[0m\u001b[0;34m\u001b[0m\u001b[0;34m\u001b[0m\u001b[0m\n\u001b[0;32m---> 15\u001b[0;31m \u001b[0msc\u001b[0m \u001b[0;34m=\u001b[0m \u001b[0mSparkContext\u001b[0m\u001b[0;34m(\u001b[0m\u001b[0;34m\"local[2]\"\u001b[0m\u001b[0;34m,\u001b[0m \u001b[0;34m\"Twitter Demo\"\u001b[0m\u001b[0;34m)\u001b[0m\u001b[0;34m\u001b[0m\u001b[0;34m\u001b[0m\u001b[0m\n\u001b[0m\u001b[1;32m     16\u001b[0m \u001b[0mssc\u001b[0m \u001b[0;34m=\u001b[0m \u001b[0mStreamingContext\u001b[0m\u001b[0;34m(\u001b[0m\u001b[0msc\u001b[0m\u001b[0;34m,\u001b[0m \u001b[0;36m10\u001b[0m\u001b[0;34m)\u001b[0m \u001b[0;31m#10 is the batch interval in seconds\u001b[0m\u001b[0;34m\u001b[0m\u001b[0;34m\u001b[0m\u001b[0m\n\u001b[1;32m     17\u001b[0m \u001b[0mIP\u001b[0m \u001b[0;34m=\u001b[0m \u001b[0;34m\"localhost\"\u001b[0m\u001b[0;34m\u001b[0m\u001b[0;34m\u001b[0m\u001b[0m\n",
      "\u001b[0;32m/usr/local/lib/python3.9/site-packages/pyspark/context.py\u001b[0m in \u001b[0;36m__init__\u001b[0;34m(self, master, appName, sparkHome, pyFiles, environment, batchSize, serializer, conf, gateway, jsc, profiler_cls)\u001b[0m\n\u001b[1;32m    142\u001b[0m                 \" is not allowed as it is a security risk.\")\n\u001b[1;32m    143\u001b[0m \u001b[0;34m\u001b[0m\u001b[0m\n\u001b[0;32m--> 144\u001b[0;31m         \u001b[0mSparkContext\u001b[0m\u001b[0;34m.\u001b[0m\u001b[0m_ensure_initialized\u001b[0m\u001b[0;34m(\u001b[0m\u001b[0mself\u001b[0m\u001b[0;34m,\u001b[0m \u001b[0mgateway\u001b[0m\u001b[0;34m=\u001b[0m\u001b[0mgateway\u001b[0m\u001b[0;34m,\u001b[0m \u001b[0mconf\u001b[0m\u001b[0;34m=\u001b[0m\u001b[0mconf\u001b[0m\u001b[0;34m)\u001b[0m\u001b[0;34m\u001b[0m\u001b[0;34m\u001b[0m\u001b[0m\n\u001b[0m\u001b[1;32m    145\u001b[0m         \u001b[0;32mtry\u001b[0m\u001b[0;34m:\u001b[0m\u001b[0;34m\u001b[0m\u001b[0;34m\u001b[0m\u001b[0m\n\u001b[1;32m    146\u001b[0m             self._do_init(master, appName, sparkHome, pyFiles, environment, batchSize, serializer,\n",
      "\u001b[0;32m/usr/local/lib/python3.9/site-packages/pyspark/context.py\u001b[0m in \u001b[0;36m_ensure_initialized\u001b[0;34m(cls, instance, gateway, conf)\u001b[0m\n\u001b[1;32m    340\u001b[0m \u001b[0;34m\u001b[0m\u001b[0m\n\u001b[1;32m    341\u001b[0m                     \u001b[0;31m# Raise error if there is already a running Spark context\u001b[0m\u001b[0;34m\u001b[0m\u001b[0;34m\u001b[0m\u001b[0;34m\u001b[0m\u001b[0m\n\u001b[0;32m--> 342\u001b[0;31m                     raise ValueError(\n\u001b[0m\u001b[1;32m    343\u001b[0m                         \u001b[0;34m\"Cannot run multiple SparkContexts at once; \"\u001b[0m\u001b[0;34m\u001b[0m\u001b[0;34m\u001b[0m\u001b[0m\n\u001b[1;32m    344\u001b[0m                         \u001b[0;34m\"existing SparkContext(app=%s, master=%s)\"\u001b[0m\u001b[0;34m\u001b[0m\u001b[0;34m\u001b[0m\u001b[0m\n",
      "\u001b[0;31mValueError\u001b[0m: Cannot run multiple SparkContexts at once; existing SparkContext(app=Twitter Demo, master=local[2]) created by __init__ at <ipython-input-57-35bee233e478>:15 "
     ]
    }
   ],
   "source": [
    "import time\n",
    "import json\n",
    "from pyspark import SparkContext\n",
    "from pyspark.streaming import StreamingContext\n",
    " \n",
    "# Our filter function:\n",
    "def filter_tweets(tweet):\n",
    "    json_tweet = json.loads(tweet)\n",
    "    if json_tweet.has_key('lang'): # When the lang key was not present it caused issues\n",
    "        if json_tweet['lang'] == 'ar':\n",
    "            return True # filter() requires a Boolean value\n",
    "    return False\n",
    " \n",
    "# SparkContext(“local[1]”) would not work with Streaming bc 2 threads are required\n",
    "sc = SparkContext(\"local[2]\", \"Twitter Demo\")\n",
    "ssc = StreamingContext(sc, 10) #10 is the batch interval in seconds\n",
    "IP = \"localhost\"\n",
    "Port = 5555\n",
    "lines = ssc.socketTextStream(IP, Port)\n",
    "\n",
    "#lines.foreachRDD( lambda rdd: rdd.filter( filter_tweets ).coalesce(1).saveAsTextFile(\"./tweets/%f\" % time.time()) )\n",
    " \n",
    "# You must start the Spark StreamingContext, and await process termination…\n",
    "#ssc.start()\n",
    "ssc.awaitTermination()"
   ]
  },
  {
   "cell_type": "code",
   "execution_count": 62,
   "id": "oriental-channel",
   "metadata": {},
   "outputs": [],
   "source": [
    "ssc.stop()"
   ]
  },
  {
   "cell_type": "code",
   "execution_count": 58,
   "id": "gross-topic",
   "metadata": {},
   "outputs": [],
   "source": [
    "import tweepy\n",
    "from tweepy import OAuthHandler\n",
    "from tweepy import Stream\n",
    "from tweepy.streaming import StreamListener\n",
    "import socket\n",
    "import json"
   ]
  },
  {
   "cell_type": "code",
   "execution_count": 59,
   "id": "medium-essay",
   "metadata": {},
   "outputs": [],
   "source": [
    "ACCESS_TOKEN = '1216833846-zgaGaZMMJ2FIzdXtfLWPjBNhmn29EYs26XmxE7h'\n",
    "ACCESS_SECRET = 'Yi9flb2I9KoviwODOiBHxzGwKI91WMqV9C40WKLmeArrG'\n",
    "CONSUMER_KEY = 'ojpw4liQ6rOmfaAV0ZyEmoQOx'\n",
    "CONSUMER_SECRET = 'PkzQRxU5ejErQyiMlxZrnFhuc1fv1b75zE6icHZz58g3twQGeb'"
   ]
  },
  {
   "cell_type": "code",
   "execution_count": null,
   "id": "empirical-toilet",
   "metadata": {},
   "outputs": [],
   "source": [
    "class TweetsListener(StreamListener):\n",
    "  def __init__(self, csocket):\n",
    "      self.client_socket = csocket\n",
    "  def on_data(self, data):\n",
    "    try:\n",
    "        msg = json.load(data)\n",
    "        tweet_text = msg['text']\n",
    "        tweet_screenName = msg['user']['screen_name']\n",
    "        tweet_source = msg['source']\n",
    "        tweet_created = msg['created_at']\n",
    "        self.client_socket(tweet_text, tweet_screenName, tweet_source, tweet_created)\n",
    "      try:\n",
    "        msg = json.loads( data )\n",
    "          \n",
    "          self.client_socket.send( msg['text'].encode('utf-8') )\n",
    "          return True\n",
    "          \n",
    "      except BaseException as e:\n",
    "          print(\"Error on_data: %s\" % str(e))\n",
    "      return True\n",
    "  def on_error(self, status):\n",
    "      print(status)\n",
    "      return True"
   ]
  }
 ],
 "metadata": {
  "kernelspec": {
   "display_name": "Python 3",
   "language": "python",
   "name": "python3"
  },
  "language_info": {
   "codemirror_mode": {
    "name": "ipython",
    "version": 3
   },
   "file_extension": ".py",
   "mimetype": "text/x-python",
   "name": "python",
   "nbconvert_exporter": "python",
   "pygments_lexer": "ipython3",
   "version": "3.9.2"
  }
 },
 "nbformat": 4,
 "nbformat_minor": 5
}
